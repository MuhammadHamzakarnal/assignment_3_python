{
  "nbformat": 4,
  "nbformat_minor": 0,
  "metadata": {
    "colab": {
      "provenance": [],
      "authorship_tag": "ABX9TyNJ9I7JkNYZHIjZS+3awqNj",
      "include_colab_link": true
    },
    "kernelspec": {
      "name": "python3",
      "display_name": "Python 3"
    },
    "language_info": {
      "name": "python"
    }
  },
  "cells": [
    {
      "cell_type": "markdown",
      "metadata": {
        "id": "view-in-github",
        "colab_type": "text"
      },
      "source": [
        "<a href=\"https://colab.research.google.com/github/MuhammadHamzakarnal/assignment_3_python/blob/main/assignment_3_python.ipynb\" target=\"_parent\"><img src=\"https://colab.research.google.com/assets/colab-badge.svg\" alt=\"Open In Colab\"/></a>"
      ]
    },
    {
      "cell_type": "markdown",
      "source": [
        "***Assignment 3 ***\n",
        "# **Python Assignment List Tuples and methods**\n",
        "\n"
      ],
      "metadata": {
        "id": "MxMZwXIcngH3"
      }
    },
    {
      "cell_type": "code",
      "execution_count": 1,
      "metadata": {
        "colab": {
          "base_uri": "https://localhost:8080/"
        },
        "id": "-Sa5lY4wne6p",
        "outputId": "d14ad699-99f5-452a-d567-2ae7b1d6a699"
      },
      "outputs": [
        {
          "output_type": "stream",
          "name": "stdout",
          "text": [
            "[4, 5, 6, 7, 8, 9]\n",
            "[1, 2, 3, 4, 5, 6]\n",
            "['HTML', 'CSS', 'python', 'Python', 'SQL']\n",
            "[20, 30, 10, 40]\n",
            "[100, 200, 300]\n"
          ]
        }
      ],
      "source": [
        "numberlist = [4, 5, 6, 7, 8]\n",
        "numberlist.append(9)\n",
        "print(numberlist)\n",
        "\n",
        "numbers = [1, 2, 3]\n",
        "numbers2 = [4, 5, 6]\n",
        "numbers.extend(numbers2)\n",
        "print(numbers)\n",
        "\n",
        "programminglanguage = [\"HTML\", \"CSS\", \"Python\", \"SQL\"]\n",
        "programminglanguage.insert(2, \"python\")\n",
        "print(programminglanguage)\n",
        "\n",
        "Removenumber = [10, 20, 30, 10, 40]\n",
        "Removenumber.remove(10)\n",
        "print(Removenumber)\n",
        "\n",
        "lastelementremove = [100, 200, 300, 400]\n",
        "lastelementremove.pop()\n",
        "print(lastelementremove)\n"
      ]
    },
    {
      "cell_type": "code",
      "source": [
        "#Intermediate List Operations\n",
        "#Answer no 6\n",
        "countnumber = [5, 10, 5, 20, 5, 30]\n",
        "print(countnumber.count(5))\n",
        "\n",
        "#Answer no 7\n",
        "Alphabeticallyorder = [9, 1, 8, 3, 5]\n",
        "Alphabeticallyorder.sort()\n",
        "print(Alphabeticallyorder)\n",
        "\n",
        "#Answer no 8\n",
        "fruits = [\"apple\", \"banana\", \"cherry\"]\n",
        "fruits.reverse()\n",
        "print(fruits)\n",
        "\n",
        "#Answer no 9\n",
        "numberitem = [100,200,300,400,500]\n",
        "copy_list = numberitem.copy()\n",
        "copy_list.append(600)\n",
        "\n",
        "print(numberitem)\n",
        "print(copy_list)\n",
        "\n",
        "#Answer no 10\n",
        "Clearelement = [\"hello\", \"world\", \"python\"]\n",
        "print(Clearelement.clear())"
      ],
      "metadata": {
        "colab": {
          "base_uri": "https://localhost:8080/"
        },
        "id": "GM1QKr5Eo5WJ",
        "outputId": "d2a87ceb-0c07-4508-adf1-75f502006f94"
      },
      "execution_count": 2,
      "outputs": [
        {
          "output_type": "stream",
          "name": "stdout",
          "text": [
            "3\n",
            "[1, 3, 5, 8, 9]\n",
            "['cherry', 'banana', 'apple']\n",
            "[100, 200, 300, 400, 500]\n",
            "[100, 200, 300, 400, 500, 600]\n",
            "None\n"
          ]
        }
      ]
    },
    {
      "cell_type": "code",
      "source": [
        "#Advanced Problems\n",
        "#Answer no 16\n",
        "\n",
        "def even_number(list):\n",
        "    return [i for i in list if i % 2 != 0]\n",
        "print(even_number([2, 3, 2, 3, 6, 4, 10, 54, 60, 62, 72]))\n",
        "\n",
        "#Answer no 17\n",
        "def num_list(lst):\n",
        "    return sorted (lst,reverse=True)\n",
        "listofnumber = [3,1,4,1,5,9]\n",
        "print(num_list(listofnumber))\n",
        "\n",
        "\n",
        "\n",
        "#Answer no 18\n",
        "my_list = [1,2,3,4,1,2,3,4,5,2]\n",
        "new_list = set(my_list)\n",
        "my_num_list =  list(new_list)\n",
        "print(my_num_list)\n",
        "\n",
        "#Answer no 19\n",
        "my_tuple_list = (\"Alice\", \"Bob\", \"Charlie\", \"Alice\", \"David\")\n",
        "my_list = list(my_tuple_list)\n",
        "my_list_2  = set(my_list)\n",
        "my_tuple = tuple(my_list_2)\n",
        "print(my_tuple)"
      ],
      "metadata": {
        "colab": {
          "base_uri": "https://localhost:8080/"
        },
        "id": "7xrNN686pJ8k",
        "outputId": "b4928522-0624-4f23-c920-b737e311cce3"
      },
      "execution_count": 3,
      "outputs": [
        {
          "output_type": "stream",
          "name": "stdout",
          "text": [
            "[3, 3]\n",
            "[9, 5, 4, 3, 1, 1]\n",
            "[1, 2, 3, 4, 5]\n",
            "('Bob', 'David', 'Charlie', 'Alice')\n"
          ]
        }
      ]
    },
    {
      "cell_type": "code",
      "source": [
        "#Intermediate List Operations\n",
        "#Answer no 6\n",
        "countnumber = [5, 10, 5, 20, 5, 30]\n",
        "print(countnumber.count(5))\n",
        "\n",
        "#Answer no 7\n",
        "Alphabeticallyorder = [9, 1, 8, 3, 5]\n",
        "Alphabeticallyorder.sort()\n",
        "print(Alphabeticallyorder)\n",
        "\n",
        "#Answer no 8\n",
        "fruits = [\"apple\", \"banana\", \"cherry\"]\n",
        "fruits.reverse()\n",
        "print(fruits)\n",
        "\n",
        "#Answer no 9\n",
        "numberitem = [100,200,300,400,500]\n",
        "copy_list = numberitem.copy()\n",
        "copy_list.append(600)\n",
        "\n",
        "print(numberitem)\n",
        "print(copy_list)\n",
        "\n",
        "#Answer no 10\n",
        "Clearelement = [\"hello\", \"world\", \"python\"]\n",
        "print(Clearelement.clear())"
      ],
      "metadata": {
        "colab": {
          "base_uri": "https://localhost:8080/"
        },
        "id": "EENjjTEtpgeC",
        "outputId": "56e98f09-4cff-4ea9-995d-6b9dcf3b5455"
      },
      "execution_count": 4,
      "outputs": [
        {
          "output_type": "stream",
          "name": "stdout",
          "text": [
            "3\n",
            "[1, 3, 5, 8, 9]\n",
            "['cherry', 'banana', 'apple']\n",
            "[100, 200, 300, 400, 500]\n",
            "[100, 200, 300, 400, 500, 600]\n",
            "None\n"
          ]
        }
      ]
    }
  ]
}